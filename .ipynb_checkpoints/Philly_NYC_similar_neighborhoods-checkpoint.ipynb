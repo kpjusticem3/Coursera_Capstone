{
 "cells": [
  {
   "cell_type": "markdown",
   "metadata": {},
   "source": [
    "# Philadelphia Neighborhoods for NYC Commuters\n",
    "## Prepared as the capstone project for Courseara Applied Data Science\n",
    "\n",
    "\n",
    "## Overview\n",
    "The New York City real estate is one of the most expensive real estate markets in the U.S. and around the globe. Due to the high costs of living, many people that work in NYC would prefer to commute and own a home outside of the city. However, these same people also want the benefits that come along with big city life. \n",
    "\n",
    "Philadelphia has much of the same benefits of NYC with a diverse community, major league sports, large population, similar climate, large cultural events and locations, and a signficiant number of highly-rated restaurants and other establishments. In addition, commuters can get trains directly from Philadelphia to downtown NYC in about an hour to an hour and half. Yet, property prices in Philadelphia per square foot are significantly lower than those in NYC (by a factor of 4).\n",
    "\n",
    "Therefore, over the past several years, Philadelphia has seen an influx of people from NYC. Especially people with families that are not looking to spend their entire salary on a small place in the city and want some of the amenities that big cities have to offer. \n",
    "\n",
    "**Problem Statement :** How does someone from NYC know which neighborhoods are similar to the ones they like in NYC? By creating a clustering model of both NYC and Philly neighborhoods, we should be able to provide them with like neighborhoods. \n",
    "\n",
    "\n",
    "* * *\n",
    "\n"
   ]
  },
  {
   "cell_type": "markdown",
   "metadata": {},
   "source": [
    "# Data Section:\n",
    "The clustering will be run based upon demographic data combined with venue data from Foursquare. The data required to create this analysis is drawn from the following sources:\n",
    "\n",
    "1. Google Maps API - provided the coordinates for the neighborhoods and the postal codes\n",
    "2. Foursquare API (required by Coursera for this project) - provides the venue data\n",
    "3. Point2homes website is scraped for the demographics by zipcode\n",
    "\n",
    "***"
   ]
  },
  {
   "cell_type": "markdown",
   "metadata": {},
   "source": []
  },
  {
   "cell_type": "code",
   "execution_count": null,
   "metadata": {},
   "outputs": [],
   "source": []
  },
  {
   "cell_type": "code",
   "execution_count": null,
   "metadata": {},
   "outputs": [],
   "source": []
  },
  {
   "cell_type": "code",
   "execution_count": null,
   "metadata": {},
   "outputs": [],
   "source": []
  }
 ],
 "metadata": {
  "kernelspec": {
   "display_name": "Python 3",
   "language": "python",
   "name": "python3"
  },
  "language_info": {
   "codemirror_mode": {
    "name": "ipython",
    "version": 3
   },
   "file_extension": ".py",
   "mimetype": "text/x-python",
   "name": "python",
   "nbconvert_exporter": "python",
   "pygments_lexer": "ipython3",
   "version": "3.7.7"
  }
 },
 "nbformat": 4,
 "nbformat_minor": 4
}
